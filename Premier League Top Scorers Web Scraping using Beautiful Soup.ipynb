{
 "cells": [
  {
   "cell_type": "markdown",
   "id": "3a1db57f-a4e4-46dc-9761-e2ce007188f2",
   "metadata": {},
   "source": [
    " ##   Premier League Top Scorers Web Scraping using Beautiful Soup"
   ]
  },
  {
   "cell_type": "code",
   "execution_count": 76,
   "id": "f2182057-d22f-478b-9b61-61fbdcefa6cc",
   "metadata": {},
   "outputs": [],
   "source": [
    "import requests\n",
    "from bs4 import BeautifulSoup\n",
    "import pandas as pd\n",
    "import numpy as np"
   ]
  },
  {
   "cell_type": "code",
   "execution_count": 77,
   "id": "cf5ec984-7ba8-432a-ace0-43ae01bc993c",
   "metadata": {},
   "outputs": [],
   "source": [
    "url = \"https://www.bbc.com/sport/football/premier-league/top-scorers\""
   ]
  },
  {
   "cell_type": "code",
   "execution_count": 78,
   "id": "5dfa2cbd-b783-4999-aa52-90e7bd65ac53",
   "metadata": {},
   "outputs": [],
   "source": [
    "responce = requests.get(url)"
   ]
  },
  {
   "cell_type": "code",
   "execution_count": 80,
   "id": "5397848a-14bf-45b7-ac97-19fe7ad75dab",
   "metadata": {},
   "outputs": [
    {
     "data": {
      "text/plain": [
       "200"
      ]
     },
     "execution_count": 80,
     "metadata": {},
     "output_type": "execute_result"
    }
   ],
   "source": [
    "responce.status_code"
   ]
  },
  {
   "cell_type": "code",
   "execution_count": 81,
   "id": "aeed1470-f588-4ee3-9de5-0a0412d888da",
   "metadata": {},
   "outputs": [],
   "source": [
    "soup = BeautifulSoup(responce.text,\"html.parser\")"
   ]
  },
  {
   "cell_type": "code",
   "execution_count": 82,
   "id": "8b5a868f-ca71-4fed-8cd8-821e07430618",
   "metadata": {},
   "outputs": [],
   "source": [
    "players_list = []\n",
    "teams_list = []\n",
    "goals_list  = []\n",
    "Assists_list = []\n",
    "Played_list = []\n",
    "Min_per_Goal_list = []\n",
    "Goals_per_90_list = []\n",
    "Goal_Conversion_list = []\n"
   ]
  },
  {
   "cell_type": "code",
   "execution_count": 83,
   "id": "5bd4d844-6d57-44de-baa5-070d73345271",
   "metadata": {},
   "outputs": [],
   "source": [
    "try:\n",
    "    response = requests.get(url)\n",
    "    responce.raise_for_status()\n",
    "except  Exception as e:\n",
    "    print(e)\n",
    "\n",
    "else:\n",
    "    \n",
    "    soup = BeautifulSoup(response.content,\"html.parser\")\n",
    "    table_rows = soup.find(\"tbody\").find_all(\"tr\",class_ = \"ssrcss-dhlz6k-TableRowBody e1icz100\")\n",
    "    for row in table_rows:\n",
    "        \n",
    "        player = row.find(\"div\",class_= \"ssrcss-m6ah29-PlayerName e1n8xy5b1\").get_text(strip = True)\n",
    "        team_name = row.find(\"div\",class_= \"ssrcss-qvpga1-TeamsSummary e1n8xy5b0\").get_text(strip = True)\n",
    "        goal = row.find(\"div\",class_ = \"ssrcss-8k20kk-CellWrapper ef9ipf0\").get_text(strip = True)\n",
    "\n",
    "\n",
    "        stats = row.find_all(\"div\", class_ =\"ssrcss-150z8d-CellWrapper ef9ipf0\")\n",
    "        # print(stats)\n",
    "\n",
    "        # break\n",
    "\n",
    "        Assists = int(stats[0].get_text(strip = True))\n",
    "        Played = int(stats[2].get_text(strip = True))\n",
    "        Goals_per_90 = stats[4].get_text(strip = True)\n",
    "        Mins_per_Goal = stats[6].get_text(strip = True)\n",
    "        Goal_Conversion =  stats[8].get_text(strip = True)\n",
    "\n",
    "        \n",
    "        players_list.append(player)\n",
    "        teams_list.append(team_name)\n",
    "        goals_list.append(int(goal))\n",
    "        Assists_list.append(Assists)\n",
    "        Played_list.append(Played)\n",
    "        Goals_per_90_list.append(Goals_per_90)\n",
    "        Min_per_Goal_list.append(Mins_per_Goal)\n",
    "        Goal_Conversion_list.append(Goal_Conversion)\n",
    "        \n",
    "    data = {\"players\":players_list,\n",
    "           \"teams\":teams_list,\n",
    "           \"goals\":goals_list,\n",
    "           \"assist\":Assists_list,\n",
    "           \"Played\":Played_list,\n",
    "           \"goals_per_90\":Goals_per_90_list,\n",
    "           \"min_per_gols\":Min_per_Goal_list,\n",
    "           \"goals_conversion\":Goal_Conversion_list}\n",
    "\n",
    "\n",
    "    final_data = pd.DataFrame(data)\n",
    "        \n",
    "    "
   ]
  },
  {
   "cell_type": "code",
   "execution_count": 84,
   "id": "1f4f08a4-f283-4396-9a55-57f9ec288ab0",
   "metadata": {},
   "outputs": [
    {
     "data": {
      "text/html": [
       "<div>\n",
       "<style scoped>\n",
       "    .dataframe tbody tr th:only-of-type {\n",
       "        vertical-align: middle;\n",
       "    }\n",
       "\n",
       "    .dataframe tbody tr th {\n",
       "        vertical-align: top;\n",
       "    }\n",
       "\n",
       "    .dataframe thead th {\n",
       "        text-align: right;\n",
       "    }\n",
       "</style>\n",
       "<table border=\"1\" class=\"dataframe\">\n",
       "  <thead>\n",
       "    <tr style=\"text-align: right;\">\n",
       "      <th></th>\n",
       "      <th>players</th>\n",
       "      <th>teams</th>\n",
       "      <th>goals</th>\n",
       "      <th>assist</th>\n",
       "      <th>Played</th>\n",
       "      <th>goals_per_90</th>\n",
       "      <th>min_per_gols</th>\n",
       "      <th>goals_conversion</th>\n",
       "    </tr>\n",
       "  </thead>\n",
       "  <tbody>\n",
       "    <tr>\n",
       "      <th>0</th>\n",
       "      <td>Mohamed Salah</td>\n",
       "      <td>Liverpool</td>\n",
       "      <td>27</td>\n",
       "      <td>17</td>\n",
       "      <td>29</td>\n",
       "      <td>0.94</td>\n",
       "      <td>95</td>\n",
       "      <td>25%</td>\n",
       "    </tr>\n",
       "    <tr>\n",
       "      <th>1</th>\n",
       "      <td>E. Haaland</td>\n",
       "      <td>Man City</td>\n",
       "      <td>21</td>\n",
       "      <td>3</td>\n",
       "      <td>28</td>\n",
       "      <td>0.76</td>\n",
       "      <td>118</td>\n",
       "      <td>21%</td>\n",
       "    </tr>\n",
       "    <tr>\n",
       "      <th>2</th>\n",
       "      <td>A. Isak</td>\n",
       "      <td>Newcastle</td>\n",
       "      <td>19</td>\n",
       "      <td>5</td>\n",
       "      <td>25</td>\n",
       "      <td>0.83</td>\n",
       "      <td>108</td>\n",
       "      <td>28%</td>\n",
       "    </tr>\n",
       "    <tr>\n",
       "      <th>3</th>\n",
       "      <td>C. Wood</td>\n",
       "      <td>Nottm Forest</td>\n",
       "      <td>18</td>\n",
       "      <td>3</td>\n",
       "      <td>29</td>\n",
       "      <td>0.69</td>\n",
       "      <td>131</td>\n",
       "      <td>34%</td>\n",
       "    </tr>\n",
       "    <tr>\n",
       "      <th>4</th>\n",
       "      <td>B. Mbeumo</td>\n",
       "      <td>Brentford</td>\n",
       "      <td>15</td>\n",
       "      <td>5</td>\n",
       "      <td>29</td>\n",
       "      <td>0.52</td>\n",
       "      <td>174</td>\n",
       "      <td>24%</td>\n",
       "    </tr>\n",
       "  </tbody>\n",
       "</table>\n",
       "</div>"
      ],
      "text/plain": [
       "         players         teams  goals  assist  Played goals_per_90  \\\n",
       "0  Mohamed Salah     Liverpool     27      17      29         0.94   \n",
       "1     E. Haaland      Man City     21       3      28         0.76   \n",
       "2        A. Isak     Newcastle     19       5      25         0.83   \n",
       "3        C. Wood  Nottm Forest     18       3      29         0.69   \n",
       "4      B. Mbeumo     Brentford     15       5      29         0.52   \n",
       "\n",
       "  min_per_gols goals_conversion  \n",
       "0           95              25%  \n",
       "1          118              21%  \n",
       "2          108              28%  \n",
       "3          131              34%  \n",
       "4          174              24%  "
      ]
     },
     "execution_count": 84,
     "metadata": {},
     "output_type": "execute_result"
    }
   ],
   "source": [
    "final_data.head()"
   ]
  },
  {
   "cell_type": "code",
   "execution_count": 85,
   "id": "16fa1f38-7abe-4d52-86df-90d851bc9c24",
   "metadata": {},
   "outputs": [],
   "source": [
    "final_data.to_excel(\"EPL TOP SCORER.xlsx\",index = False)"
   ]
  },
  {
   "cell_type": "code",
   "execution_count": null,
   "id": "94edc94d-fc59-4f87-a916-81d569330f2b",
   "metadata": {},
   "outputs": [],
   "source": []
  }
 ],
 "metadata": {
  "kernelspec": {
   "display_name": "Python 3 (ipykernel)",
   "language": "python",
   "name": "python3"
  },
  "language_info": {
   "codemirror_mode": {
    "name": "ipython",
    "version": 3
   },
   "file_extension": ".py",
   "mimetype": "text/x-python",
   "name": "python",
   "nbconvert_exporter": "python",
   "pygments_lexer": "ipython3",
   "version": "3.13.2"
  }
 },
 "nbformat": 4,
 "nbformat_minor": 5
}
